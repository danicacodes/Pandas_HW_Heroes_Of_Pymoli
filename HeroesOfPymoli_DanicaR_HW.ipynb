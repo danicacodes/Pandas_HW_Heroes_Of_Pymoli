{
 "cells": [
  {
   "cell_type": "markdown",
   "metadata": {},
   "source": [
    "\n",
    "### Danica Rios\n",
    "### Heroes Of Pymoli Data Analysis\n",
    "* The majority of purchasers are actually repeat purchasers for the Heroes of Pymoli game. The total purchase count is 780 but our unique players is 576. \n",
    "\n",
    "* Most purchases are made by individuals aged 15-24, which is 44.79% of the overall Total Count. This age group also has the highest total purchase value of 1,114.06 USD and their average purchase price is 3.05 USD. \n",
    "\n",
    "* Lastly, the majority of players are male, representing 84.03%, but their average purchase per person is lower than females and the other bucket. Males have an average purchase per person of 4.07 USD and females have an average purchase per person 4.47 USD. Therefore, the purchase price for females is roughly 9.82% more than the purchase price of males.  \n",
    "-----"
   ]
  },
  {
   "cell_type": "markdown",
   "metadata": {},
   "source": [
    "### Note\n",
    "* Instructions have been included for each segment. You do not have to follow them exactly, but they are included to help you think through the steps."
   ]
  },
  {
   "cell_type": "code",
   "execution_count": 1,
   "metadata": {},
   "outputs": [],
   "source": [
    "# Dependencies and Setup\n",
    "import pandas as pd\n",
    "import numpy as np\n",
    "\n",
    "# File to Load (Remember to Change These)\n",
    "file_to_load = \"Resources/purchase_data.csv\"\n",
    "\n",
    "# Read Purchasing File and store into Pandas data frame\n",
    "purchase_data = pd.read_csv(file_to_load)"
   ]
  },
  {
   "cell_type": "markdown",
   "metadata": {},
   "source": [
    "## Player Count"
   ]
  },
  {
   "cell_type": "markdown",
   "metadata": {},
   "source": [
    "* Display the total number of players\n"
   ]
  },
  {
   "cell_type": "code",
   "execution_count": 2,
   "metadata": {},
   "outputs": [
    {
     "data": {
      "text/html": [
       "<div>\n",
       "<style scoped>\n",
       "    .dataframe tbody tr th:only-of-type {\n",
       "        vertical-align: middle;\n",
       "    }\n",
       "\n",
       "    .dataframe tbody tr th {\n",
       "        vertical-align: top;\n",
       "    }\n",
       "\n",
       "    .dataframe thead th {\n",
       "        text-align: right;\n",
       "    }\n",
       "</style>\n",
       "<table border=\"1\" class=\"dataframe\">\n",
       "  <thead>\n",
       "    <tr style=\"text-align: right;\">\n",
       "      <th></th>\n",
       "      <th>Total Players</th>\n",
       "    </tr>\n",
       "  </thead>\n",
       "  <tbody>\n",
       "    <tr>\n",
       "      <th>0</th>\n",
       "      <td>576</td>\n",
       "    </tr>\n",
       "  </tbody>\n",
       "</table>\n",
       "</div>"
      ],
      "text/plain": [
       "   Total Players\n",
       "0            576"
      ]
     },
     "execution_count": 2,
     "metadata": {},
     "output_type": "execute_result"
    }
   ],
   "source": [
    "# Use the lenght of the \"SN\" list for total unique players\n",
    "total_players = len(purchase_data[\"SN\"].unique())\n",
    "\n",
    "# Create a data frame with total players named players count\n",
    "players_count = pd.DataFrame({\"Total Players\": [total_players]})\n",
    "players_count"
   ]
  },
  {
   "cell_type": "markdown",
   "metadata": {},
   "source": [
    "## Purchasing Analysis (Total)"
   ]
  },
  {
   "cell_type": "markdown",
   "metadata": {},
   "source": [
    "* Run basic calculations to obtain number of unique items, average price, etc.\n",
    "\n",
    "\n",
    "* Create a summary data frame to hold the results\n",
    "\n",
    "\n",
    "* Optional: give the displayed data cleaner formatting\n",
    "\n",
    "\n",
    "* Display the summary data frame\n"
   ]
  },
  {
   "cell_type": "code",
   "execution_count": 3,
   "metadata": {
    "scrolled": true
   },
   "outputs": [
    {
     "data": {
      "text/html": [
       "<div>\n",
       "<style scoped>\n",
       "    .dataframe tbody tr th:only-of-type {\n",
       "        vertical-align: middle;\n",
       "    }\n",
       "\n",
       "    .dataframe tbody tr th {\n",
       "        vertical-align: top;\n",
       "    }\n",
       "\n",
       "    .dataframe thead th {\n",
       "        text-align: right;\n",
       "    }\n",
       "</style>\n",
       "<table border=\"1\" class=\"dataframe\">\n",
       "  <thead>\n",
       "    <tr style=\"text-align: right;\">\n",
       "      <th></th>\n",
       "      <th>Number of Unique Items</th>\n",
       "      <th>Average Price</th>\n",
       "      <th>Number of Purchases</th>\n",
       "      <th>Total Revenue</th>\n",
       "    </tr>\n",
       "  </thead>\n",
       "  <tbody>\n",
       "    <tr>\n",
       "      <th>0</th>\n",
       "      <td>183</td>\n",
       "      <td>$3.05</td>\n",
       "      <td>780</td>\n",
       "      <td>$2,379.77</td>\n",
       "    </tr>\n",
       "  </tbody>\n",
       "</table>\n",
       "</div>"
      ],
      "text/plain": [
       "   Number of Unique Items Average Price  Number of Purchases Total Revenue\n",
       "0                     183         $3.05                  780     $2,379.77"
      ]
     },
     "execution_count": 3,
     "metadata": {},
     "output_type": "execute_result"
    }
   ],
   "source": [
    "number_items = len(purchase_data[\"Item ID\"].unique())\n",
    "average_price = (purchase_data[\"Price\"]).mean()\n",
    "purchases = purchase_data[\"Purchase ID\"].count()\n",
    "revenue = purchase_data[\"Price\"].sum()\n",
    "\n",
    "purchasing_analysis = pd.DataFrame ({\n",
    "    \"Number of Unique Items\": [number_items],\n",
    "    \"Average Price\": [average_price],\n",
    "    \"Number of Purchases\": [purchases],\n",
    "    \"Total Revenue\": [revenue]\n",
    "})\n",
    "\n",
    "purchasing_analysis[\"Average Price\"] = purchasing_analysis[\"Average Price\"].map(\"${0:,.2f}\".format)\n",
    "purchasing_analysis[\"Total Revenue\"] = purchasing_analysis[\"Total Revenue\"].map(\"${0:,.2f}\".format)\n",
    "\n",
    "\n",
    "final_purchase_analysis = pd.DataFrame(purchasing_analysis)\n",
    "final_purchase_analysis"
   ]
  },
  {
   "cell_type": "markdown",
   "metadata": {},
   "source": [
    "## Gender Demographics"
   ]
  },
  {
   "cell_type": "markdown",
   "metadata": {},
   "source": [
    "* Percentage and Count of Male Players\n",
    "* Percentage and Count of Female Players\n",
    "* Percentage and Count of Other / Non-Disclosed"
   ]
  },
  {
   "cell_type": "code",
   "execution_count": 4,
   "metadata": {},
   "outputs": [
    {
     "data": {
      "text/html": [
       "<style  type=\"text/css\" >\n",
       "</style><table id=\"T_e56f3670_7975_11e9_ab79_8c16454abd96\" ><thead>    <tr>        <th class=\"blank level0\" ></th>        <th class=\"col_heading level0 col0\" >Total Count</th>        <th class=\"col_heading level0 col1\" >Percentage of Players</th>    </tr>    <tr>        <th class=\"index_name level0\" >Gender</th>        <th class=\"blank\" ></th>        <th class=\"blank\" ></th>    </tr></thead><tbody>\n",
       "                <tr>\n",
       "                        <th id=\"T_e56f3670_7975_11e9_ab79_8c16454abd96level0_row0\" class=\"row_heading level0 row0\" >Male</th>\n",
       "                        <td id=\"T_e56f3670_7975_11e9_ab79_8c16454abd96row0_col0\" class=\"data row0 col0\" >484</td>\n",
       "                        <td id=\"T_e56f3670_7975_11e9_ab79_8c16454abd96row0_col1\" class=\"data row0 col1\" >84.03%</td>\n",
       "            </tr>\n",
       "            <tr>\n",
       "                        <th id=\"T_e56f3670_7975_11e9_ab79_8c16454abd96level0_row1\" class=\"row_heading level0 row1\" >Female</th>\n",
       "                        <td id=\"T_e56f3670_7975_11e9_ab79_8c16454abd96row1_col0\" class=\"data row1 col0\" >81</td>\n",
       "                        <td id=\"T_e56f3670_7975_11e9_ab79_8c16454abd96row1_col1\" class=\"data row1 col1\" >14.06%</td>\n",
       "            </tr>\n",
       "            <tr>\n",
       "                        <th id=\"T_e56f3670_7975_11e9_ab79_8c16454abd96level0_row2\" class=\"row_heading level0 row2\" >Other / Non-Disclosed</th>\n",
       "                        <td id=\"T_e56f3670_7975_11e9_ab79_8c16454abd96row2_col0\" class=\"data row2 col0\" >11</td>\n",
       "                        <td id=\"T_e56f3670_7975_11e9_ab79_8c16454abd96row2_col1\" class=\"data row2 col1\" >1.91%</td>\n",
       "            </tr>\n",
       "    </tbody></table>"
      ],
      "text/plain": [
       "<pandas.io.formats.style.Styler at 0x1f20c476fd0>"
      ]
     },
     "execution_count": 4,
     "metadata": {},
     "output_type": "execute_result"
    }
   ],
   "source": [
    "# Counts all players but does not consider duplicates\n",
    "gender_count = purchase_data.groupby(\"Gender\")\n",
    "\n",
    "# Finds gender of unique players\n",
    "gender_unique_count = gender_count.nunique()[\"SN\"]\n",
    "\n",
    "# Percentage of Players\n",
    "gender_percent = (gender_unique_count/total_players)*100\n",
    "\n",
    "# Creates data frame\n",
    "gender_summary = pd.DataFrame({\"Total Count\": gender_unique_count, \"Percentage of Players\": gender_percent})\n",
    "\n",
    "# Format Results\n",
    "gender_summary.sort_values([\"Total Count\"], ascending=False).style.format({\"Percentage of Players\": \"{:.2f}%\"})\n",
    "\n"
   ]
  },
  {
   "cell_type": "markdown",
   "metadata": {},
   "source": [
    "\n",
    "## Purchasing Analysis (Gender)"
   ]
  },
  {
   "cell_type": "markdown",
   "metadata": {},
   "source": [
    "* Run basic calculations to obtain purchase count, avg. purchase price, avg. purchase total per person etc. by gender\n",
    "\n",
    "\n",
    "\n",
    "\n",
    "* Create a summary data frame to hold the results\n",
    "\n",
    "\n",
    "* Optional: give the displayed data cleaner formatting\n",
    "\n",
    "\n",
    "* Display the summary data frame"
   ]
  },
  {
   "cell_type": "code",
   "execution_count": 5,
   "metadata": {},
   "outputs": [
    {
     "data": {
      "text/html": [
       "<style  type=\"text/css\" >\n",
       "</style><table id=\"T_e57128fe_7975_11e9_a0ea_8c16454abd96\" ><thead>    <tr>        <th class=\"blank level0\" ></th>        <th class=\"col_heading level0 col0\" >Purchase Count</th>        <th class=\"col_heading level0 col1\" >Average Purchase Price</th>        <th class=\"col_heading level0 col2\" >Total Purchase Value</th>        <th class=\"col_heading level0 col3\" >Avg Total Purchase per Person</th>    </tr>    <tr>        <th class=\"index_name level0\" >Gender</th>        <th class=\"blank\" ></th>        <th class=\"blank\" ></th>        <th class=\"blank\" ></th>        <th class=\"blank\" ></th>    </tr></thead><tbody>\n",
       "                <tr>\n",
       "                        <th id=\"T_e57128fe_7975_11e9_a0ea_8c16454abd96level0_row0\" class=\"row_heading level0 row0\" >Female</th>\n",
       "                        <td id=\"T_e57128fe_7975_11e9_a0ea_8c16454abd96row0_col0\" class=\"data row0 col0\" >113</td>\n",
       "                        <td id=\"T_e57128fe_7975_11e9_a0ea_8c16454abd96row0_col1\" class=\"data row0 col1\" >$3.20</td>\n",
       "                        <td id=\"T_e57128fe_7975_11e9_a0ea_8c16454abd96row0_col2\" class=\"data row0 col2\" >$361.94</td>\n",
       "                        <td id=\"T_e57128fe_7975_11e9_a0ea_8c16454abd96row0_col3\" class=\"data row0 col3\" >$4.47</td>\n",
       "            </tr>\n",
       "            <tr>\n",
       "                        <th id=\"T_e57128fe_7975_11e9_a0ea_8c16454abd96level0_row1\" class=\"row_heading level0 row1\" >Male</th>\n",
       "                        <td id=\"T_e57128fe_7975_11e9_a0ea_8c16454abd96row1_col0\" class=\"data row1 col0\" >652</td>\n",
       "                        <td id=\"T_e57128fe_7975_11e9_a0ea_8c16454abd96row1_col1\" class=\"data row1 col1\" >$3.02</td>\n",
       "                        <td id=\"T_e57128fe_7975_11e9_a0ea_8c16454abd96row1_col2\" class=\"data row1 col2\" >$1,967.64</td>\n",
       "                        <td id=\"T_e57128fe_7975_11e9_a0ea_8c16454abd96row1_col3\" class=\"data row1 col3\" >$4.07</td>\n",
       "            </tr>\n",
       "            <tr>\n",
       "                        <th id=\"T_e57128fe_7975_11e9_a0ea_8c16454abd96level0_row2\" class=\"row_heading level0 row2\" >Other / Non-Disclosed</th>\n",
       "                        <td id=\"T_e57128fe_7975_11e9_a0ea_8c16454abd96row2_col0\" class=\"data row2 col0\" >15</td>\n",
       "                        <td id=\"T_e57128fe_7975_11e9_a0ea_8c16454abd96row2_col1\" class=\"data row2 col1\" >$3.35</td>\n",
       "                        <td id=\"T_e57128fe_7975_11e9_a0ea_8c16454abd96row2_col2\" class=\"data row2 col2\" >$50.19</td>\n",
       "                        <td id=\"T_e57128fe_7975_11e9_a0ea_8c16454abd96row2_col3\" class=\"data row2 col3\" >$4.56</td>\n",
       "            </tr>\n",
       "    </tbody></table>"
      ],
      "text/plain": [
       "<pandas.io.formats.style.Styler at 0x1f20d218c18>"
      ]
     },
     "execution_count": 5,
     "metadata": {},
     "output_type": "execute_result"
    }
   ],
   "source": [
    "# Purchase Count by Gender\n",
    "purchase_count = gender_count[\"Purchase ID\"].count()\n",
    "\n",
    "# Average Purchase Price by Gender\n",
    "mean_purchase_price = gender_count[\"Price\"].mean()\n",
    "\n",
    "# Total Purchase Value by Gender\n",
    "total_purchase_value = gender_count[\"Price\"].sum()\n",
    "\n",
    "# Average Total Purchase per Person\n",
    "mean_total_purchase = total_purchase_value/gender_unique_count\n",
    "\n",
    "# Data Frame\n",
    "purchasing_analysis = pd.DataFrame({\"Purchase Count\": purchase_count, \n",
    "                                    \"Average Purchase Price\": mean_purchase_price, \n",
    "                                    \"Total Purchase Value\": total_purchase_value,\n",
    "                                   \"Avg Total Purchase per Person\": mean_total_purchase})\n",
    "# Format Results\n",
    "purchasing_analysis.style.format({\"Average Purchase Price\": \"${:.2f}\", \"Total Purchase Value\": \"${:,.2f}\", \"Avg Total Purchase per Person\": \"${:.2f}\"})\n",
    "\n",
    "\n"
   ]
  },
  {
   "cell_type": "markdown",
   "metadata": {},
   "source": [
    "## Age Demographics"
   ]
  },
  {
   "cell_type": "markdown",
   "metadata": {},
   "source": [
    "* Establish bins for ages\n",
    "\n",
    "\n",
    "* Categorize the existing players using the age bins. Hint: use pd.cut()\n",
    "\n",
    "\n",
    "* Calculate the numbers and percentages by age group\n",
    "\n",
    "\n",
    "* Create a summary data frame to hold the results\n",
    "\n",
    "\n",
    "* Optional: round the percentage column to two decimal points\n",
    "\n",
    "\n",
    "* Display Age Demographics Table\n",
    "\n"
   ]
  },
  {
   "cell_type": "code",
   "execution_count": 6,
   "metadata": {},
   "outputs": [
    {
     "data": {
      "text/html": [
       "<style  type=\"text/css\" >\n",
       "</style><table id=\"T_e57472de_7975_11e9_8b02_8c16454abd96\" ><thead>    <tr>        <th class=\"blank level0\" ></th>        <th class=\"col_heading level0 col0\" >Total Count</th>        <th class=\"col_heading level0 col1\" >Percentage of Players</th>    </tr>    <tr>        <th class=\"index_name level0\" >Age Group</th>        <th class=\"blank\" ></th>        <th class=\"blank\" ></th>    </tr></thead><tbody>\n",
       "                <tr>\n",
       "                        <th id=\"T_e57472de_7975_11e9_8b02_8c16454abd96level0_row0\" class=\"row_heading level0 row0\" ><10</th>\n",
       "                        <td id=\"T_e57472de_7975_11e9_8b02_8c16454abd96row0_col0\" class=\"data row0 col0\" >17</td>\n",
       "                        <td id=\"T_e57472de_7975_11e9_8b02_8c16454abd96row0_col1\" class=\"data row0 col1\" >2.95%</td>\n",
       "            </tr>\n",
       "            <tr>\n",
       "                        <th id=\"T_e57472de_7975_11e9_8b02_8c16454abd96level0_row1\" class=\"row_heading level0 row1\" >10-14</th>\n",
       "                        <td id=\"T_e57472de_7975_11e9_8b02_8c16454abd96row1_col0\" class=\"data row1 col0\" >22</td>\n",
       "                        <td id=\"T_e57472de_7975_11e9_8b02_8c16454abd96row1_col1\" class=\"data row1 col1\" >3.82%</td>\n",
       "            </tr>\n",
       "            <tr>\n",
       "                        <th id=\"T_e57472de_7975_11e9_8b02_8c16454abd96level0_row2\" class=\"row_heading level0 row2\" >15-19</th>\n",
       "                        <td id=\"T_e57472de_7975_11e9_8b02_8c16454abd96row2_col0\" class=\"data row2 col0\" >107</td>\n",
       "                        <td id=\"T_e57472de_7975_11e9_8b02_8c16454abd96row2_col1\" class=\"data row2 col1\" >18.58%</td>\n",
       "            </tr>\n",
       "            <tr>\n",
       "                        <th id=\"T_e57472de_7975_11e9_8b02_8c16454abd96level0_row3\" class=\"row_heading level0 row3\" >20-24</th>\n",
       "                        <td id=\"T_e57472de_7975_11e9_8b02_8c16454abd96row3_col0\" class=\"data row3 col0\" >258</td>\n",
       "                        <td id=\"T_e57472de_7975_11e9_8b02_8c16454abd96row3_col1\" class=\"data row3 col1\" >44.79%</td>\n",
       "            </tr>\n",
       "            <tr>\n",
       "                        <th id=\"T_e57472de_7975_11e9_8b02_8c16454abd96level0_row4\" class=\"row_heading level0 row4\" >25-29</th>\n",
       "                        <td id=\"T_e57472de_7975_11e9_8b02_8c16454abd96row4_col0\" class=\"data row4 col0\" >77</td>\n",
       "                        <td id=\"T_e57472de_7975_11e9_8b02_8c16454abd96row4_col1\" class=\"data row4 col1\" >13.37%</td>\n",
       "            </tr>\n",
       "            <tr>\n",
       "                        <th id=\"T_e57472de_7975_11e9_8b02_8c16454abd96level0_row5\" class=\"row_heading level0 row5\" >30-34</th>\n",
       "                        <td id=\"T_e57472de_7975_11e9_8b02_8c16454abd96row5_col0\" class=\"data row5 col0\" >52</td>\n",
       "                        <td id=\"T_e57472de_7975_11e9_8b02_8c16454abd96row5_col1\" class=\"data row5 col1\" >9.03%</td>\n",
       "            </tr>\n",
       "            <tr>\n",
       "                        <th id=\"T_e57472de_7975_11e9_8b02_8c16454abd96level0_row6\" class=\"row_heading level0 row6\" >35-39</th>\n",
       "                        <td id=\"T_e57472de_7975_11e9_8b02_8c16454abd96row6_col0\" class=\"data row6 col0\" >31</td>\n",
       "                        <td id=\"T_e57472de_7975_11e9_8b02_8c16454abd96row6_col1\" class=\"data row6 col1\" >5.38%</td>\n",
       "            </tr>\n",
       "            <tr>\n",
       "                        <th id=\"T_e57472de_7975_11e9_8b02_8c16454abd96level0_row7\" class=\"row_heading level0 row7\" >40+</th>\n",
       "                        <td id=\"T_e57472de_7975_11e9_8b02_8c16454abd96row7_col0\" class=\"data row7 col0\" >12</td>\n",
       "                        <td id=\"T_e57472de_7975_11e9_8b02_8c16454abd96row7_col1\" class=\"data row7 col1\" >2.08%</td>\n",
       "            </tr>\n",
       "    </tbody></table>"
      ],
      "text/plain": [
       "<pandas.io.formats.style.Styler at 0x1f20c4763c8>"
      ]
     },
     "execution_count": 6,
     "metadata": {},
     "output_type": "execute_result"
    }
   ],
   "source": [
    "age_bins = [0, 9, 14, 19, 24, 29, 34, 39, 100]\n",
    "bin_groups = [\"<10\", \"10-14\", \"15-19\", \"20-24\", \"25-29\", \"30-34\", \"35-39\", \"40+\"]\n",
    "\n",
    "purchase_data[\"Age Group\"]=pd.cut(purchase_data[\"Age\"], age_bins, labels=bin_groups)\n",
    "purchase_data\n",
    "\n",
    "group_by_age = purchase_data.groupby(\"Age Group\")\n",
    "count_age = group_by_age[\"SN\"].nunique()\n",
    "\n",
    "age_demo_percents = (count_age/total_players) * 100\n",
    "\n",
    "age_demo_summary = pd.DataFrame({\"Total Count\": count_age, \"Percentage of Players\": age_demo_percents})\n",
    "age_demo_summary.style.format({\"Percentage of Players\": \"{:.2f}%\"})\n",
    "\n"
   ]
  },
  {
   "cell_type": "markdown",
   "metadata": {},
   "source": [
    "## Purchasing Analysis (Age)"
   ]
  },
  {
   "cell_type": "markdown",
   "metadata": {},
   "source": [
    "* Bin the purchase_data data frame by age\n",
    "\n",
    "\n",
    "* Run basic calculations to obtain purchase count, avg. purchase price, avg. purchase total per person etc. in the table below\n",
    "\n",
    "\n",
    "* Create a summary data frame to hold the results\n",
    "\n",
    "\n",
    "* Optional: give the displayed data cleaner formatting\n",
    "\n",
    "\n",
    "* Display the summary data frame"
   ]
  },
  {
   "cell_type": "code",
   "execution_count": 7,
   "metadata": {},
   "outputs": [
    {
     "data": {
      "text/html": [
       "<style  type=\"text/css\" >\n",
       "</style><table id=\"T_e5786c9c_7975_11e9_a87a_8c16454abd96\" ><thead>    <tr>        <th class=\"blank level0\" ></th>        <th class=\"col_heading level0 col0\" >Purchase Count</th>        <th class=\"col_heading level0 col1\" >Average Purchase Price</th>        <th class=\"col_heading level0 col2\" >Total Purchase Value</th>        <th class=\"col_heading level0 col3\" >Avg Total Purchase per Person</th>    </tr>    <tr>        <th class=\"index_name level0\" >Age Ranges</th>        <th class=\"blank\" ></th>        <th class=\"blank\" ></th>        <th class=\"blank\" ></th>        <th class=\"blank\" ></th>    </tr></thead><tbody>\n",
       "                <tr>\n",
       "                        <th id=\"T_e5786c9c_7975_11e9_a87a_8c16454abd96level0_row0\" class=\"row_heading level0 row0\" ><10</th>\n",
       "                        <td id=\"T_e5786c9c_7975_11e9_a87a_8c16454abd96row0_col0\" class=\"data row0 col0\" >23</td>\n",
       "                        <td id=\"T_e5786c9c_7975_11e9_a87a_8c16454abd96row0_col1\" class=\"data row0 col1\" >$3.35</td>\n",
       "                        <td id=\"T_e5786c9c_7975_11e9_a87a_8c16454abd96row0_col2\" class=\"data row0 col2\" >$77.13</td>\n",
       "                        <td id=\"T_e5786c9c_7975_11e9_a87a_8c16454abd96row0_col3\" class=\"data row0 col3\" >$4.54</td>\n",
       "            </tr>\n",
       "            <tr>\n",
       "                        <th id=\"T_e5786c9c_7975_11e9_a87a_8c16454abd96level0_row1\" class=\"row_heading level0 row1\" >10-14</th>\n",
       "                        <td id=\"T_e5786c9c_7975_11e9_a87a_8c16454abd96row1_col0\" class=\"data row1 col0\" >28</td>\n",
       "                        <td id=\"T_e5786c9c_7975_11e9_a87a_8c16454abd96row1_col1\" class=\"data row1 col1\" >$2.96</td>\n",
       "                        <td id=\"T_e5786c9c_7975_11e9_a87a_8c16454abd96row1_col2\" class=\"data row1 col2\" >$82.78</td>\n",
       "                        <td id=\"T_e5786c9c_7975_11e9_a87a_8c16454abd96row1_col3\" class=\"data row1 col3\" >$3.76</td>\n",
       "            </tr>\n",
       "            <tr>\n",
       "                        <th id=\"T_e5786c9c_7975_11e9_a87a_8c16454abd96level0_row2\" class=\"row_heading level0 row2\" >15-19</th>\n",
       "                        <td id=\"T_e5786c9c_7975_11e9_a87a_8c16454abd96row2_col0\" class=\"data row2 col0\" >136</td>\n",
       "                        <td id=\"T_e5786c9c_7975_11e9_a87a_8c16454abd96row2_col1\" class=\"data row2 col1\" >$3.04</td>\n",
       "                        <td id=\"T_e5786c9c_7975_11e9_a87a_8c16454abd96row2_col2\" class=\"data row2 col2\" >$412.89</td>\n",
       "                        <td id=\"T_e5786c9c_7975_11e9_a87a_8c16454abd96row2_col3\" class=\"data row2 col3\" >$3.86</td>\n",
       "            </tr>\n",
       "            <tr>\n",
       "                        <th id=\"T_e5786c9c_7975_11e9_a87a_8c16454abd96level0_row3\" class=\"row_heading level0 row3\" >20-24</th>\n",
       "                        <td id=\"T_e5786c9c_7975_11e9_a87a_8c16454abd96row3_col0\" class=\"data row3 col0\" >365</td>\n",
       "                        <td id=\"T_e5786c9c_7975_11e9_a87a_8c16454abd96row3_col1\" class=\"data row3 col1\" >$3.05</td>\n",
       "                        <td id=\"T_e5786c9c_7975_11e9_a87a_8c16454abd96row3_col2\" class=\"data row3 col2\" >$1,114.06</td>\n",
       "                        <td id=\"T_e5786c9c_7975_11e9_a87a_8c16454abd96row3_col3\" class=\"data row3 col3\" >$4.32</td>\n",
       "            </tr>\n",
       "            <tr>\n",
       "                        <th id=\"T_e5786c9c_7975_11e9_a87a_8c16454abd96level0_row4\" class=\"row_heading level0 row4\" >25-29</th>\n",
       "                        <td id=\"T_e5786c9c_7975_11e9_a87a_8c16454abd96row4_col0\" class=\"data row4 col0\" >101</td>\n",
       "                        <td id=\"T_e5786c9c_7975_11e9_a87a_8c16454abd96row4_col1\" class=\"data row4 col1\" >$2.90</td>\n",
       "                        <td id=\"T_e5786c9c_7975_11e9_a87a_8c16454abd96row4_col2\" class=\"data row4 col2\" >$293.00</td>\n",
       "                        <td id=\"T_e5786c9c_7975_11e9_a87a_8c16454abd96row4_col3\" class=\"data row4 col3\" >$3.81</td>\n",
       "            </tr>\n",
       "            <tr>\n",
       "                        <th id=\"T_e5786c9c_7975_11e9_a87a_8c16454abd96level0_row5\" class=\"row_heading level0 row5\" >30-34</th>\n",
       "                        <td id=\"T_e5786c9c_7975_11e9_a87a_8c16454abd96row5_col0\" class=\"data row5 col0\" >73</td>\n",
       "                        <td id=\"T_e5786c9c_7975_11e9_a87a_8c16454abd96row5_col1\" class=\"data row5 col1\" >$2.93</td>\n",
       "                        <td id=\"T_e5786c9c_7975_11e9_a87a_8c16454abd96row5_col2\" class=\"data row5 col2\" >$214.00</td>\n",
       "                        <td id=\"T_e5786c9c_7975_11e9_a87a_8c16454abd96row5_col3\" class=\"data row5 col3\" >$4.12</td>\n",
       "            </tr>\n",
       "            <tr>\n",
       "                        <th id=\"T_e5786c9c_7975_11e9_a87a_8c16454abd96level0_row6\" class=\"row_heading level0 row6\" >35-39</th>\n",
       "                        <td id=\"T_e5786c9c_7975_11e9_a87a_8c16454abd96row6_col0\" class=\"data row6 col0\" >41</td>\n",
       "                        <td id=\"T_e5786c9c_7975_11e9_a87a_8c16454abd96row6_col1\" class=\"data row6 col1\" >$3.60</td>\n",
       "                        <td id=\"T_e5786c9c_7975_11e9_a87a_8c16454abd96row6_col2\" class=\"data row6 col2\" >$147.67</td>\n",
       "                        <td id=\"T_e5786c9c_7975_11e9_a87a_8c16454abd96row6_col3\" class=\"data row6 col3\" >$4.76</td>\n",
       "            </tr>\n",
       "            <tr>\n",
       "                        <th id=\"T_e5786c9c_7975_11e9_a87a_8c16454abd96level0_row7\" class=\"row_heading level0 row7\" >40+</th>\n",
       "                        <td id=\"T_e5786c9c_7975_11e9_a87a_8c16454abd96row7_col0\" class=\"data row7 col0\" >13</td>\n",
       "                        <td id=\"T_e5786c9c_7975_11e9_a87a_8c16454abd96row7_col1\" class=\"data row7 col1\" >$2.94</td>\n",
       "                        <td id=\"T_e5786c9c_7975_11e9_a87a_8c16454abd96row7_col2\" class=\"data row7 col2\" >$38.24</td>\n",
       "                        <td id=\"T_e5786c9c_7975_11e9_a87a_8c16454abd96row7_col3\" class=\"data row7 col3\" >$3.19</td>\n",
       "            </tr>\n",
       "    </tbody></table>"
      ],
      "text/plain": [
       "<pandas.io.formats.style.Styler at 0x1f20d225518>"
      ]
     },
     "execution_count": 7,
     "metadata": {},
     "output_type": "execute_result"
    }
   ],
   "source": [
    "# Bin the purchase_data data frame by age\n",
    "purchase_data[\"Age Ranges\"] = pd.cut(purchase_data[\"Age\"], age_bins, labels=bin_groups)\n",
    "\n",
    "# Run basic calculations to obtain purchase count, avg. purchase price, avg. purchase total per person\n",
    "age_purchase_total = purchase_data.groupby([\"Age Ranges\"]).sum()[\"Price\"].rename(\"Total Purchase Value\")\n",
    "age_average = purchase_data.groupby([\"Age Ranges\"]).mean()[\"Price\"].rename(\"Average Purchase Price\")\n",
    "age_count = purchase_data.groupby([\"Age Ranges\"]).count()[\"Price\"].rename(\"Purchase Count\")\n",
    "\n",
    "# ***This calculation is incorrect!\n",
    "avg_purchase_person = age_purchase_total/count_age\n",
    "\n",
    "# Data Frame\n",
    "age_purchase_analysis = pd.DataFrame({\"Purchase Count\": age_count, \"Average Purchase Price\": age_average, \n",
    "                                     \"Total Purchase Value\": age_purchase_total, \n",
    "                                     \"Avg Total Purchase per Person\": avg_purchase_person})\n",
    "\n",
    "# Optional: Data Frame with optional formatting\n",
    "age_purchase_analysis.style.format({\"Average Purchase Price\": \"${:,.2f}\", \"Total Purchase Value\": \"${:,.2f}\", \"Avg Total Purchase per Person\": \"${:.2f}\"})\n",
    "\n",
    "\n"
   ]
  },
  {
   "cell_type": "markdown",
   "metadata": {},
   "source": [
    "## Top Spenders"
   ]
  },
  {
   "cell_type": "markdown",
   "metadata": {},
   "source": [
    "* Run basic calculations to obtain the results in the table below\n",
    "\n",
    "\n",
    "* Create a summary data frame to hold the results\n",
    "\n",
    "\n",
    "* Sort the total purchase value column in descending order\n",
    "\n",
    "\n",
    "* Optional: give the displayed data cleaner formatting\n",
    "\n",
    "\n",
    "* Display a preview of the summary data frame\n",
    "\n"
   ]
  },
  {
   "cell_type": "code",
   "execution_count": 8,
   "metadata": {},
   "outputs": [
    {
     "data": {
      "text/html": [
       "<style  type=\"text/css\" >\n",
       "</style><table id=\"T_e57bf0ec_7975_11e9_8bdb_8c16454abd96\" ><thead>    <tr>        <th class=\"blank level0\" ></th>        <th class=\"col_heading level0 col0\" >Purchase Count</th>        <th class=\"col_heading level0 col1\" >Average Purchase Price</th>        <th class=\"col_heading level0 col2\" >Total Purchase Value</th>    </tr>    <tr>        <th class=\"index_name level0\" >SN</th>        <th class=\"blank\" ></th>        <th class=\"blank\" ></th>        <th class=\"blank\" ></th>    </tr></thead><tbody>\n",
       "                <tr>\n",
       "                        <th id=\"T_e57bf0ec_7975_11e9_8bdb_8c16454abd96level0_row0\" class=\"row_heading level0 row0\" >Lisosia93</th>\n",
       "                        <td id=\"T_e57bf0ec_7975_11e9_8bdb_8c16454abd96row0_col0\" class=\"data row0 col0\" >5</td>\n",
       "                        <td id=\"T_e57bf0ec_7975_11e9_8bdb_8c16454abd96row0_col1\" class=\"data row0 col1\" >$3.79</td>\n",
       "                        <td id=\"T_e57bf0ec_7975_11e9_8bdb_8c16454abd96row0_col2\" class=\"data row0 col2\" >$18.96</td>\n",
       "            </tr>\n",
       "            <tr>\n",
       "                        <th id=\"T_e57bf0ec_7975_11e9_8bdb_8c16454abd96level0_row1\" class=\"row_heading level0 row1\" >Idastidru52</th>\n",
       "                        <td id=\"T_e57bf0ec_7975_11e9_8bdb_8c16454abd96row1_col0\" class=\"data row1 col0\" >4</td>\n",
       "                        <td id=\"T_e57bf0ec_7975_11e9_8bdb_8c16454abd96row1_col1\" class=\"data row1 col1\" >$3.86</td>\n",
       "                        <td id=\"T_e57bf0ec_7975_11e9_8bdb_8c16454abd96row1_col2\" class=\"data row1 col2\" >$15.45</td>\n",
       "            </tr>\n",
       "            <tr>\n",
       "                        <th id=\"T_e57bf0ec_7975_11e9_8bdb_8c16454abd96level0_row2\" class=\"row_heading level0 row2\" >Chamjask73</th>\n",
       "                        <td id=\"T_e57bf0ec_7975_11e9_8bdb_8c16454abd96row2_col0\" class=\"data row2 col0\" >3</td>\n",
       "                        <td id=\"T_e57bf0ec_7975_11e9_8bdb_8c16454abd96row2_col1\" class=\"data row2 col1\" >$4.61</td>\n",
       "                        <td id=\"T_e57bf0ec_7975_11e9_8bdb_8c16454abd96row2_col2\" class=\"data row2 col2\" >$13.83</td>\n",
       "            </tr>\n",
       "            <tr>\n",
       "                        <th id=\"T_e57bf0ec_7975_11e9_8bdb_8c16454abd96level0_row3\" class=\"row_heading level0 row3\" >Iral74</th>\n",
       "                        <td id=\"T_e57bf0ec_7975_11e9_8bdb_8c16454abd96row3_col0\" class=\"data row3 col0\" >4</td>\n",
       "                        <td id=\"T_e57bf0ec_7975_11e9_8bdb_8c16454abd96row3_col1\" class=\"data row3 col1\" >$3.40</td>\n",
       "                        <td id=\"T_e57bf0ec_7975_11e9_8bdb_8c16454abd96row3_col2\" class=\"data row3 col2\" >$13.62</td>\n",
       "            </tr>\n",
       "            <tr>\n",
       "                        <th id=\"T_e57bf0ec_7975_11e9_8bdb_8c16454abd96level0_row4\" class=\"row_heading level0 row4\" >Iskadarya95</th>\n",
       "                        <td id=\"T_e57bf0ec_7975_11e9_8bdb_8c16454abd96row4_col0\" class=\"data row4 col0\" >3</td>\n",
       "                        <td id=\"T_e57bf0ec_7975_11e9_8bdb_8c16454abd96row4_col1\" class=\"data row4 col1\" >$4.37</td>\n",
       "                        <td id=\"T_e57bf0ec_7975_11e9_8bdb_8c16454abd96row4_col2\" class=\"data row4 col2\" >$13.10</td>\n",
       "            </tr>\n",
       "    </tbody></table>"
      ],
      "text/plain": [
       "<pandas.io.formats.style.Styler at 0x1f20d225898>"
      ]
     },
     "execution_count": 8,
     "metadata": {},
     "output_type": "execute_result"
    }
   ],
   "source": [
    "# Basic Calculations\n",
    "sn_purchase_count = purchase_data.groupby([\"SN\"]).count()[\"Price\"].rename(\"Purchase Count\")\n",
    "sn_avg_purchase_price = purchase_data.groupby([\"SN\"]).mean()[\"Price\"].rename(\"Average Purchase Price\")\n",
    "sn_total_purchase_value = purchase_data.groupby([\"SN\"]).sum()[\"Price\"].rename(\"Total Purchase Value\")\n",
    "\n",
    "# Create Data Frame\n",
    "top_spenders_summary = pd.DataFrame({\"Purchase Count\": sn_purchase_count, \"Average Purchase Price\": sn_avg_purchase_price, \n",
    "                                    \"Total Purchase Value\": sn_total_purchase_value})\n",
    "\n",
    "# Sorts data by Total Purchase Value in descending order, adds clearner formatting, and displays the top 5\n",
    "top_spenders_summary.sort_values([\"Total Purchase Value\"], ascending=False).head(5).style.format({\"Average Purchase Price\": \"${:.2f}\", \"Total Purchase Value\": \"${:.2f}\"})\n",
    "\n",
    "\n",
    "\n"
   ]
  },
  {
   "cell_type": "markdown",
   "metadata": {},
   "source": [
    "## Most Popular Items"
   ]
  },
  {
   "cell_type": "markdown",
   "metadata": {},
   "source": [
    "* Retrieve the Item ID, Item Name, and Item Price columns\n",
    "\n",
    "\n",
    "* Group by Item ID and Item Name. Perform calculations to obtain purchase count, item price, and total purchase value\n",
    "\n",
    "\n",
    "* Create a summary data frame to hold the results\n",
    "\n",
    "\n",
    "* Sort the purchase count column in descending order\n",
    "\n",
    "\n",
    "* Optional: give the displayed data cleaner formatting\n",
    "\n",
    "\n",
    "* Display a preview of the summary data frame\n",
    "\n"
   ]
  },
  {
   "cell_type": "code",
   "execution_count": 9,
   "metadata": {
    "scrolled": true
   },
   "outputs": [
    {
     "data": {
      "text/html": [
       "<style  type=\"text/css\" >\n",
       "</style><table id=\"T_e5814b76_7975_11e9_8f12_8c16454abd96\" ><thead>    <tr>        <th class=\"blank\" ></th>        <th class=\"blank level0\" ></th>        <th class=\"col_heading level0 col0\" >Purchase Count</th>        <th class=\"col_heading level0 col1\" >Item Price</th>        <th class=\"col_heading level0 col2\" >Total Purchase Value</th>    </tr>    <tr>        <th class=\"index_name level0\" >Item ID</th>        <th class=\"index_name level1\" >Item Name</th>        <th class=\"blank\" ></th>        <th class=\"blank\" ></th>        <th class=\"blank\" ></th>    </tr></thead><tbody>\n",
       "                <tr>\n",
       "                        <th id=\"T_e5814b76_7975_11e9_8f12_8c16454abd96level0_row0\" class=\"row_heading level0 row0\" >178</th>\n",
       "                        <th id=\"T_e5814b76_7975_11e9_8f12_8c16454abd96level1_row0\" class=\"row_heading level1 row0\" >Oathbreaker, Last Hope of the Breaking Storm</th>\n",
       "                        <td id=\"T_e5814b76_7975_11e9_8f12_8c16454abd96row0_col0\" class=\"data row0 col0\" >12</td>\n",
       "                        <td id=\"T_e5814b76_7975_11e9_8f12_8c16454abd96row0_col1\" class=\"data row0 col1\" >$4.23</td>\n",
       "                        <td id=\"T_e5814b76_7975_11e9_8f12_8c16454abd96row0_col2\" class=\"data row0 col2\" >$50.76</td>\n",
       "            </tr>\n",
       "            <tr>\n",
       "                        <th id=\"T_e5814b76_7975_11e9_8f12_8c16454abd96level0_row1\" class=\"row_heading level0 row1\" >145</th>\n",
       "                        <th id=\"T_e5814b76_7975_11e9_8f12_8c16454abd96level1_row1\" class=\"row_heading level1 row1\" >Fiery Glass Crusader</th>\n",
       "                        <td id=\"T_e5814b76_7975_11e9_8f12_8c16454abd96row1_col0\" class=\"data row1 col0\" >9</td>\n",
       "                        <td id=\"T_e5814b76_7975_11e9_8f12_8c16454abd96row1_col1\" class=\"data row1 col1\" >$4.58</td>\n",
       "                        <td id=\"T_e5814b76_7975_11e9_8f12_8c16454abd96row1_col2\" class=\"data row1 col2\" >$41.22</td>\n",
       "            </tr>\n",
       "            <tr>\n",
       "                        <th id=\"T_e5814b76_7975_11e9_8f12_8c16454abd96level0_row2\" class=\"row_heading level0 row2\" >108</th>\n",
       "                        <th id=\"T_e5814b76_7975_11e9_8f12_8c16454abd96level1_row2\" class=\"row_heading level1 row2\" >Extraction, Quickblade Of Trembling Hands</th>\n",
       "                        <td id=\"T_e5814b76_7975_11e9_8f12_8c16454abd96row2_col0\" class=\"data row2 col0\" >9</td>\n",
       "                        <td id=\"T_e5814b76_7975_11e9_8f12_8c16454abd96row2_col1\" class=\"data row2 col1\" >$3.53</td>\n",
       "                        <td id=\"T_e5814b76_7975_11e9_8f12_8c16454abd96row2_col2\" class=\"data row2 col2\" >$31.77</td>\n",
       "            </tr>\n",
       "            <tr>\n",
       "                        <th id=\"T_e5814b76_7975_11e9_8f12_8c16454abd96level0_row3\" class=\"row_heading level0 row3\" >82</th>\n",
       "                        <th id=\"T_e5814b76_7975_11e9_8f12_8c16454abd96level1_row3\" class=\"row_heading level1 row3\" >Nirvana</th>\n",
       "                        <td id=\"T_e5814b76_7975_11e9_8f12_8c16454abd96row3_col0\" class=\"data row3 col0\" >9</td>\n",
       "                        <td id=\"T_e5814b76_7975_11e9_8f12_8c16454abd96row3_col1\" class=\"data row3 col1\" >$4.90</td>\n",
       "                        <td id=\"T_e5814b76_7975_11e9_8f12_8c16454abd96row3_col2\" class=\"data row3 col2\" >$44.10</td>\n",
       "            </tr>\n",
       "            <tr>\n",
       "                        <th id=\"T_e5814b76_7975_11e9_8f12_8c16454abd96level0_row4\" class=\"row_heading level0 row4\" >19</th>\n",
       "                        <th id=\"T_e5814b76_7975_11e9_8f12_8c16454abd96level1_row4\" class=\"row_heading level1 row4\" >Pursuit, Cudgel of Necromancy</th>\n",
       "                        <td id=\"T_e5814b76_7975_11e9_8f12_8c16454abd96row4_col0\" class=\"data row4 col0\" >8</td>\n",
       "                        <td id=\"T_e5814b76_7975_11e9_8f12_8c16454abd96row4_col1\" class=\"data row4 col1\" >$1.02</td>\n",
       "                        <td id=\"T_e5814b76_7975_11e9_8f12_8c16454abd96row4_col2\" class=\"data row4 col2\" >$8.16</td>\n",
       "            </tr>\n",
       "    </tbody></table>"
      ],
      "text/plain": [
       "<pandas.io.formats.style.Styler at 0x1f20d218198>"
      ]
     },
     "execution_count": 9,
     "metadata": {},
     "output_type": "execute_result"
    }
   ],
   "source": [
    "# Retrieve the Item ID, Item Name, and Item Price columns\n",
    "popular_items = purchase_data.loc[:,[\"Item ID\", \"Item Name\", \"Price\"]]\n",
    "\n",
    "# Group by Item ID and Item Name. Perform calculations to obtain purchase count, item price, and total purchase value\n",
    "sum_items_purchase = popular_items.groupby([\"Item ID\", \"Item Name\"]).sum()[\"Price\"].rename(\"Total Purchase Value\")\n",
    "avg_item_price = popular_items.groupby([\"Item ID\", \"Item Name\"]).mean()[\"Price\"]\n",
    "count_item_purchase = popular_items.groupby([\"Item ID\", \"Item Name\"]).count()[\"Price\"].rename(\"Purchase Count\")\n",
    "\n",
    "# Create Data Frame\n",
    "most_popular_items = pd.DataFrame({\"Purchase Count\": count_item_purchase,\n",
    "                                   \"Item Price\": avg_item_price, \"Total Purchase Value\": sum_items_purchase  \n",
    "                                   })\n",
    "\n",
    "# Sorts data by Total Purchase Value in descending order, adds clearner formatting, and displays the top 5\n",
    "most_popular_items.sort_values([\"Purchase Count\"], ascending=False).head(5).style.format({\"Total Purchase Value\": \"${:.2f}\", \"Item Price\": \"${:.2f}\"})\n"
   ]
  },
  {
   "cell_type": "markdown",
   "metadata": {},
   "source": [
    "## Most Profitable Items"
   ]
  },
  {
   "cell_type": "markdown",
   "metadata": {},
   "source": [
    "* Sort the above table by total purchase value in descending order\n",
    "\n",
    "\n",
    "* Optional: give the displayed data cleaner formatting\n",
    "\n",
    "\n",
    "* Display a preview of the data frame\n",
    "\n"
   ]
  },
  {
   "cell_type": "code",
   "execution_count": 10,
   "metadata": {
    "scrolled": true
   },
   "outputs": [
    {
     "data": {
      "text/html": [
       "<style  type=\"text/css\" >\n",
       "</style><table id=\"T_e582d2ec_7975_11e9_b2d9_8c16454abd96\" ><thead>    <tr>        <th class=\"blank\" ></th>        <th class=\"blank level0\" ></th>        <th class=\"col_heading level0 col0\" >Purchase Count</th>        <th class=\"col_heading level0 col1\" >Item Price</th>        <th class=\"col_heading level0 col2\" >Total Purchase Value</th>    </tr>    <tr>        <th class=\"index_name level0\" >Item ID</th>        <th class=\"index_name level1\" >Item Name</th>        <th class=\"blank\" ></th>        <th class=\"blank\" ></th>        <th class=\"blank\" ></th>    </tr></thead><tbody>\n",
       "                <tr>\n",
       "                        <th id=\"T_e582d2ec_7975_11e9_b2d9_8c16454abd96level0_row0\" class=\"row_heading level0 row0\" >178</th>\n",
       "                        <th id=\"T_e582d2ec_7975_11e9_b2d9_8c16454abd96level1_row0\" class=\"row_heading level1 row0\" >Oathbreaker, Last Hope of the Breaking Storm</th>\n",
       "                        <td id=\"T_e582d2ec_7975_11e9_b2d9_8c16454abd96row0_col0\" class=\"data row0 col0\" >12</td>\n",
       "                        <td id=\"T_e582d2ec_7975_11e9_b2d9_8c16454abd96row0_col1\" class=\"data row0 col1\" >$4.23</td>\n",
       "                        <td id=\"T_e582d2ec_7975_11e9_b2d9_8c16454abd96row0_col2\" class=\"data row0 col2\" >$50.76</td>\n",
       "            </tr>\n",
       "            <tr>\n",
       "                        <th id=\"T_e582d2ec_7975_11e9_b2d9_8c16454abd96level0_row1\" class=\"row_heading level0 row1\" >82</th>\n",
       "                        <th id=\"T_e582d2ec_7975_11e9_b2d9_8c16454abd96level1_row1\" class=\"row_heading level1 row1\" >Nirvana</th>\n",
       "                        <td id=\"T_e582d2ec_7975_11e9_b2d9_8c16454abd96row1_col0\" class=\"data row1 col0\" >9</td>\n",
       "                        <td id=\"T_e582d2ec_7975_11e9_b2d9_8c16454abd96row1_col1\" class=\"data row1 col1\" >$4.90</td>\n",
       "                        <td id=\"T_e582d2ec_7975_11e9_b2d9_8c16454abd96row1_col2\" class=\"data row1 col2\" >$44.10</td>\n",
       "            </tr>\n",
       "            <tr>\n",
       "                        <th id=\"T_e582d2ec_7975_11e9_b2d9_8c16454abd96level0_row2\" class=\"row_heading level0 row2\" >145</th>\n",
       "                        <th id=\"T_e582d2ec_7975_11e9_b2d9_8c16454abd96level1_row2\" class=\"row_heading level1 row2\" >Fiery Glass Crusader</th>\n",
       "                        <td id=\"T_e582d2ec_7975_11e9_b2d9_8c16454abd96row2_col0\" class=\"data row2 col0\" >9</td>\n",
       "                        <td id=\"T_e582d2ec_7975_11e9_b2d9_8c16454abd96row2_col1\" class=\"data row2 col1\" >$4.58</td>\n",
       "                        <td id=\"T_e582d2ec_7975_11e9_b2d9_8c16454abd96row2_col2\" class=\"data row2 col2\" >$41.22</td>\n",
       "            </tr>\n",
       "            <tr>\n",
       "                        <th id=\"T_e582d2ec_7975_11e9_b2d9_8c16454abd96level0_row3\" class=\"row_heading level0 row3\" >92</th>\n",
       "                        <th id=\"T_e582d2ec_7975_11e9_b2d9_8c16454abd96level1_row3\" class=\"row_heading level1 row3\" >Final Critic</th>\n",
       "                        <td id=\"T_e582d2ec_7975_11e9_b2d9_8c16454abd96row3_col0\" class=\"data row3 col0\" >8</td>\n",
       "                        <td id=\"T_e582d2ec_7975_11e9_b2d9_8c16454abd96row3_col1\" class=\"data row3 col1\" >$4.88</td>\n",
       "                        <td id=\"T_e582d2ec_7975_11e9_b2d9_8c16454abd96row3_col2\" class=\"data row3 col2\" >$39.04</td>\n",
       "            </tr>\n",
       "            <tr>\n",
       "                        <th id=\"T_e582d2ec_7975_11e9_b2d9_8c16454abd96level0_row4\" class=\"row_heading level0 row4\" >103</th>\n",
       "                        <th id=\"T_e582d2ec_7975_11e9_b2d9_8c16454abd96level1_row4\" class=\"row_heading level1 row4\" >Singed Scalpel</th>\n",
       "                        <td id=\"T_e582d2ec_7975_11e9_b2d9_8c16454abd96row4_col0\" class=\"data row4 col0\" >8</td>\n",
       "                        <td id=\"T_e582d2ec_7975_11e9_b2d9_8c16454abd96row4_col1\" class=\"data row4 col1\" >$4.35</td>\n",
       "                        <td id=\"T_e582d2ec_7975_11e9_b2d9_8c16454abd96row4_col2\" class=\"data row4 col2\" >$34.80</td>\n",
       "            </tr>\n",
       "    </tbody></table>"
      ],
      "text/plain": [
       "<pandas.io.formats.style.Styler at 0x1f20d218f28>"
      ]
     },
     "execution_count": 10,
     "metadata": {},
     "output_type": "execute_result"
    }
   ],
   "source": [
    "most_popular_items.sort_values([\"Total Purchase Value\"], ascending=False).head(5).style.format({\"Total Purchase Value\": \"${:.2f}\", \"Item Price\": \"${:.2f}\"})\n"
   ]
  }
 ],
 "metadata": {
  "anaconda-cloud": {},
  "kernel_info": {
   "name": "python3"
  },
  "kernelspec": {
   "display_name": "Python 3",
   "language": "python",
   "name": "python3"
  },
  "language_info": {
   "codemirror_mode": {
    "name": "ipython",
    "version": 3
   },
   "file_extension": ".py",
   "mimetype": "text/x-python",
   "name": "python",
   "nbconvert_exporter": "python",
   "pygments_lexer": "ipython3",
   "version": "3.7.3"
  },
  "nteract": {
   "version": "0.2.0"
  }
 },
 "nbformat": 4,
 "nbformat_minor": 2
}
